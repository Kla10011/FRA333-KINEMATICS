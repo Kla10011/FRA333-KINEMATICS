{
 "cells": [
  {
   "cell_type": "code",
   "execution_count": 1,
   "metadata": {},
   "outputs": [],
   "source": [
    "import math\n",
    "import re \n",
    "import numpy as np\n",
    "Tra_x   = [[1.,0.,0.,1.],\n",
    "                    [0.,1.,0.,0.],\n",
    "                    [0.,0.,1.,0.],\n",
    "                    [0.,0.,0.,1.]]\n"
   ]
  },
  {
   "cell_type": "code",
   "execution_count": 2,
   "metadata": {},
   "outputs": [
    {
     "name": "stdout",
     "output_type": "stream",
     "text": [
      "1.0 \n",
      " klaza\n"
     ]
    }
   ],
   "source": [
    "print(Tra_x[0][3],\"\\n\",\"klaza\")"
   ]
  },
  {
   "cell_type": "markdown",
   "metadata": {},
   "source": []
  },
  {
   "cell_type": "code",
   "execution_count": 3,
   "metadata": {},
   "outputs": [],
   "source": [
    "joint = 3\n",
    "def forward_kin(q):\n",
    "    DH_table = ([[0,0,0.3,0.],\n",
    "                [0.16,math.pi/2,0,0.],\n",
    "                [0.35,0.,0.,0.]])\n",
    "    P = [1,1,1]\n",
    "    H = np.identity(4)\n",
    "\n",
    "    H3_e = [[0.,0.,1.,0.16],\n",
    "                    [1.,0.,0.,0.],\n",
    "                    [0.,-1.,0.,0.],\n",
    "                    [0.,0.,0.,1.]]\n",
    "\n",
    "    for i in range(0,joint):\n",
    "        Tx = DH_table[i][0] \n",
    "        Rx = DH_table[i][1] \n",
    "        Tz = DH_table[i][2] \n",
    "        Rz = DH_table[i][3] \n",
    "        Tra_x   = [[1.,0.,0.,Tx],\n",
    "                [0.,1.,0.,0.],\n",
    "                [0.,0.,1.,0.],\n",
    "                [0.,0.,0.,1.]]\n",
    "\n",
    "        Rot_x   = [[1.,0.,0.,0.],\n",
    "                [0.,math.cos(Rx),-1*math.sin(Rx),0.],\n",
    "                [0.,math.sin(Rx),math.cos(Rx),0.],\n",
    "                [0.,0.,0.,1.]]\n",
    "                            \n",
    "        Tra_z   = [[1.,0.,0.,0.],\n",
    "                [0.,1.,0.,0.],\n",
    "                [0.,0.,1.,Tz],\n",
    "                [0.,0.,0.,1.]]\n",
    "        Rot_z   = [[math.cos(Rz),-1*math.sin(Rz),0.,0.],\n",
    "                [math.sin(Rz),math.cos(Rz),0.,0.],\n",
    "                [0.,0.,1.,0.],\n",
    "                [0.,0.,0.,1.]]\n",
    "\n",
    "        if P[i] == 1:\n",
    "            # print(q[i])\n",
    "            Rot_z_q   = [[math.cos(q[i]),-1*math.sin(q[i]),0.,0.],\n",
    "                        [math.sin(q[i]),math.cos(q[i]),0.,0.],\n",
    "                        [0.,0.,1.,0.],\n",
    "                        [0.,0.,0.,1.]]\n",
    "            Hj = Rot_z_q\n",
    "        else:\n",
    "            Tra_z_q   = [[1.,0.,0.,0.],\n",
    "                        [0.,1.,0.,0.],\n",
    "                        [0.,0.,1.,q[i]],\n",
    "                        [0.,0.,0.,1.]]\n",
    "            Hj = Tra_z_q\n",
    "\n",
    "        H = H @ Tra_x @ Rot_x @ Tra_z @ Rot_z @ Hj\n",
    "        # print(H)\n",
    "    H0_e = H@H3_e\n",
    "#     print(Tra_x,\"\\n\",Rot_x,\"\\n\",Tra_z,\"\\n\",Rot_z)\n",
    "    return H0_e\n",
    "\n",
    "def forward_kinematics(q):\n",
    "    joint_config = q\n",
    "    n_joint = 3\n",
    "    DH_pam = [[0 ,0 ,0.3 ,0],\n",
    "              [0.16 ,math.pi/2 ,0 ,0],\n",
    "              [0.35 ,0 ,0 ,0]]\n",
    "\n",
    "    H = np.identity(4)\n",
    "\n",
    "    H_end_eff = [[0 , 0 ,1 ,0.16],\n",
    "                 [1 , 0 ,0 ,0],\n",
    "                 [0 ,1 ,0 ,0],\n",
    "                 [0 , 0 ,0 ,1]]\n",
    "\n",
    "    for i in range(joint):\n",
    "        rad = joint_config[i]\n",
    "        c ,s = np.cos(rad), np.sin(rad)\n",
    "        c_x ,s_x = np.cos(DH_pam[i][1]), np.sin(DH_pam[i][1])\n",
    "        c_z ,s_z = np.cos(DH_pam[i][3]), np.sin(DH_pam[i][3])\n",
    "\n",
    "        T_x =  [[1 ,0 ,0 ,DH_pam[i][0]],               \n",
    "                [0 ,1 ,0 ,0],\n",
    "                [0 ,0, 1 ,0],\n",
    "                [0 ,0 ,0 ,1]]\n",
    "\n",
    "        R_x =  [[1 ,   0 ,   0 ,0],           \n",
    "                [0 , c_x ,-s_x ,0],\n",
    "                [0 , s_x , c_x ,0],\n",
    "                [0 ,   0 ,   0 ,1]]\n",
    "\n",
    "        T_z =  [[1 ,0 ,0 ,0],\n",
    "                [0 ,1 ,0 ,0],\n",
    "                [0 ,0 ,1 ,DH_pam[i][2]],\n",
    "                [0 ,0 ,0 ,1]]\n",
    "\n",
    "        R_z =  [[c_z ,-s_z ,0 ,0],\n",
    "                [s_z , c_z ,0 ,0],\n",
    "                [0   ,   0 ,1 ,0],\n",
    "                [0   ,   0 ,0 ,1]]\n",
    "\n",
    "        H_j =  [[c ,-s ,0 ,0],\n",
    "                [s , c ,0 ,0],\n",
    "                [0 , 0 ,1 ,0],\n",
    "                [0 , 0 ,0 ,1]]\n",
    "\n",
    "        H = H @ T_x @ R_x @ T_z @ R_z @ H_j      \n",
    "        # print(H)\n",
    "    H = H@H_end_eff\n",
    "#     print(T_x,\"\\n\",R_x,\"\\n\",T_z,\"\\n\",T_z)\n",
    "\n",
    "    return H"
   ]
  },
  {
   "cell_type": "code",
   "execution_count": 4,
   "metadata": {},
   "outputs": [
    {
     "name": "stdout",
     "output_type": "stream",
     "text": [
      "[-0.00027891691860720824] 4.4421840724579147e-07 0.65025471349278\n",
      "[-0.00027891691860720824] 4.4421840724579147e-07 0.65025471349278\n"
     ]
    }
   ],
   "source": [
    "A = forward_kin([3.14,1.57,1.57])\n",
    "b = forward_kinematics([3.14,1.57,1.57])\n",
    "print([A[0][3]],A[1][3],A[2][3])\n",
    "print([b[0][3]],b[1][3],b[2][3])"
   ]
  },
  {
   "cell_type": "code",
   "execution_count": 31,
   "metadata": {},
   "outputs": [],
   "source": [
    "import math\n",
    "import numpy as np\n",
    "\n",
    "# 2D RRIK\n",
    "def RRIK(x,y,F,L1,L2):\n",
    "    c2 = (x**2+y**2-L1**2-L2**2)/(2*L1*L2)\n",
    "    if -1 <= c2 and c2 <=1 :\n",
    "        s2 = F*math.sqrt(1-c2**2)\n",
    "        q3 = math.atan2(y,x)-math.atan2(L2*s2,L1+L2*c2)\n",
    "    else:\n",
    "        flag = False\n",
    "        return [0. ,0. ,0.],flag\n",
    "    q2 = math.atan2(s2,c2)\n",
    "    print(c2)\n",
    "    return [q2,q3]\n",
    "\n",
    "# 3D RRRIK\n",
    "def inverse_kin(point,gamma,h1,L1,L2,L3):\n",
    "    flag = True\n",
    "    x = point[0]\n",
    "    y = point[1]\n",
    "    z = point[2]\n",
    "\n",
    "    Fq1 = gamma[0]\n",
    "    Fq23 = gamma[1]\n",
    "    \n",
    "    # q1\n",
    "    r = Fq1*(math.sqrt(x**2+y**2))\n",
    "    c1 = x/r\n",
    "    s1 = y/r\n",
    "    q1 = math.atan2(y/Fq1,x/Fq1)\n",
    "    # q23\n",
    "    Q = RRIK(r-L1,z-h1,Fq23,L2,L3)\n",
    "\n",
    "    c_3 = ((Fq1*((x**2+y**2)**0.5) - L1)**2 + (z-h1)**2 - L2**2 - L3**2)/(2*L2*L3)\n",
    "    \n",
    "    print(c_3)\n",
    "    if Q == ([0. ,0. ,0.],False):\n",
    "        return [0. ,0. ,0.],False\n",
    "    else:\n",
    "        return [q1,Q[0],Q[1]],flag\n"
   ]
  },
  {
   "cell_type": "code",
   "execution_count": 34,
   "metadata": {},
   "outputs": [
    {
     "name": "stdout",
     "output_type": "stream",
     "text": [
      "0.0007963267107331696\n",
      "0.0007963267107331696\n",
      "([3.140000000000077, -1.57, 2.4272805980561225], True)\n"
     ]
    }
   ],
   "source": [
    "# point = [A[0][3],A[1][3],A[2][3]]\n",
    "point = [-0.00027891691860720824,4.4421840724579147e-07,0.65025471349278]\n",
    "gamma = [1,-1]\n",
    "gg = inverse_kin(point,gamma,0.3,0.16,0.35,0.16)\n",
    "print(gg)"
   ]
  },
  {
   "cell_type": "code",
   "execution_count": null,
   "metadata": {},
   "outputs": [],
   "source": []
  }
 ],
 "metadata": {
  "kernelspec": {
   "display_name": "Python 3.8.10 64-bit",
   "language": "python",
   "name": "python3"
  },
  "language_info": {
   "codemirror_mode": {
    "name": "ipython",
    "version": 3
   },
   "file_extension": ".py",
   "mimetype": "text/x-python",
   "name": "python",
   "nbconvert_exporter": "python",
   "pygments_lexer": "ipython3",
   "version": "3.8.10"
  },
  "orig_nbformat": 4,
  "vscode": {
   "interpreter": {
    "hash": "916dbcbb3f70747c44a77c7bcd40155683ae19c65e1c03b4aa3499c5328201f1"
   }
  }
 },
 "nbformat": 4,
 "nbformat_minor": 2
}
