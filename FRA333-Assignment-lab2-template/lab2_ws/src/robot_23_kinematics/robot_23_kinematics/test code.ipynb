{
 "cells": [
  {
   "cell_type": "code",
   "execution_count": 58,
   "metadata": {},
   "outputs": [],
   "source": [
    "import math\n",
    "import re \n",
    "import numpy as np\n",
    "Tra_x   = [[1.,0.,0.,1.],\n",
    "                    [0.,1.,0.,0.],\n",
    "                    [0.,0.,1.,0.],\n",
    "                    [0.,0.,0.,1.]]\n"
   ]
  },
  {
   "cell_type": "code",
   "execution_count": 59,
   "metadata": {},
   "outputs": [
    {
     "name": "stdout",
     "output_type": "stream",
     "text": [
      "1.0 \n",
      " klaza\n"
     ]
    }
   ],
   "source": [
    "print(Tra_x[0][3],\"\\n\",\"klaza\")"
   ]
  },
  {
   "cell_type": "markdown",
   "metadata": {},
   "source": []
  },
  {
   "cell_type": "code",
   "execution_count": 84,
   "metadata": {},
   "outputs": [],
   "source": [
    "joint = 3\n",
    "def forward_kin(q):\n",
    "    DH_table = ([[0,0,0.3,0.],\n",
    "                [0.16,math.pi/2,0.,0.],\n",
    "                [0.35,0.,0.,0.]])\n",
    "    P = [1,1,1]\n",
    "    H = np.identity(4)\n",
    "\n",
    "    H3_e = [[0.,0.,1.,0.16],\n",
    "                    [1.,0.,0.,0.],\n",
    "                    [0.,-1.,0.,0.],\n",
    "                    [0.,0.,0.,1.]]\n",
    "\n",
    "    for i in range(0,joint):\n",
    "        Tx = DH_table[i][0] \n",
    "        Rx = DH_table[i][1] \n",
    "        Tz = DH_table[i][2] \n",
    "        Rz = DH_table[i][3] \n",
    "        Tra_x   = [[1.,0.,0.,Tx],\n",
    "                [0.,1.,0.,0.],\n",
    "                [0.,0.,1.,0.],\n",
    "                [0.,0.,0.,1.]]\n",
    "\n",
    "        Rot_x   = [[1.,0.,0.,0.],\n",
    "                [0.,math.cos(Rx),-1*math.sin(Rx),0.],\n",
    "                [0.,math.sin(Rx),math.cos(Rx),0.],\n",
    "                [0.,0.,0.,1.]]\n",
    "                            \n",
    "        Tra_z   = [[1.,0.,0.,0.],\n",
    "                [0.,1.,0.,0.],\n",
    "                [0.,0.,1.,Tz],\n",
    "                [0.,0.,0.,1.]]\n",
    "        Rot_z   = [[math.cos(Rz),-1*math.sin(Rz),0.,0.],\n",
    "                [math.sin(Rz),math.cos(Rz),0.,0.],\n",
    "                [0.,0.,1.,0.],\n",
    "                [0.,0.,0.,1.]]\n",
    "\n",
    "        if P[i] == 1:\n",
    "            # print(q[i])\n",
    "            Rot_z_q   = [[math.cos(q[i]),-1*math.sin(q[i]),0.,0.],\n",
    "                        [math.sin(q[i]),math.cos(q[i]),0.,0.],\n",
    "                        [0.,0.,1.,0.],\n",
    "                        [0.,0.,0.,1.]]\n",
    "            Hj = Rot_z_q\n",
    "        else:\n",
    "            Tra_z_q   = [[1.,0.,0.,0.],\n",
    "                        [0.,1.,0.,0.],\n",
    "                        [0.,0.,1.,q[i]],\n",
    "                        [0.,0.,0.,1.]]\n",
    "            Hj = Tra_z_q\n",
    "\n",
    "        H = H @ Tra_x @ Rot_x @ Tra_z @ Rot_z @ Hj\n",
    "        # print(H)\n",
    "    H0_e = H@H3_e\n",
    "#     print(Tra_x,\"\\n\",Rot_x,\"\\n\",Tra_z,\"\\n\",Rot_z)\n",
    "    return H0_e\n",
    "\n",
    "def forward_kinematics(q):\n",
    "    joint_config = q\n",
    "    n_joint = 3\n",
    "    DH_pam = [[0 ,0 ,0.3 ,0],\n",
    "              [0.16 ,math.pi/2 ,0 ,0],\n",
    "              [0.35 ,0 ,0 ,0]]\n",
    "\n",
    "    H = np.identity(4)\n",
    "\n",
    "    H_end_eff = [[0 , 0 ,1 ,0.16],\n",
    "                 [1 , 0 ,0 ,0],\n",
    "                 [0 ,1 ,0 ,0],\n",
    "                 [0 , 0 ,0 ,1]]\n",
    "\n",
    "    for i in range(joint):\n",
    "        rad = joint_config[i]\n",
    "        c ,s = np.cos(rad), np.sin(rad)\n",
    "        c_x ,s_x = np.cos(DH_pam[i][1]), np.sin(DH_pam[i][1])\n",
    "        c_z ,s_z = np.cos(DH_pam[i][3]), np.sin(DH_pam[i][3])\n",
    "\n",
    "        T_x =  [[1 ,0 ,0 ,DH_pam[i][0]],               \n",
    "                [0 ,1 ,0 ,0],\n",
    "                [0 ,0, 1 ,0],\n",
    "                [0 ,0 ,0 ,1]]\n",
    "\n",
    "        R_x =  [[1 ,   0 ,   0 ,0],           \n",
    "                [0 , c_x ,-s_x ,0],\n",
    "                [0 , s_x , c_x ,0],\n",
    "                [0 ,   0 ,   0 ,1]]\n",
    "\n",
    "        T_z =  [[1 ,0 ,0 ,0],\n",
    "                [0 ,1 ,0 ,0],\n",
    "                [0 ,0 ,1 ,DH_pam[i][2]],\n",
    "                [0 ,0 ,0 ,1]]\n",
    "\n",
    "        R_z =  [[c_z ,-s_z ,0 ,0],\n",
    "                [s_z , c_z ,0 ,0],\n",
    "                [0   ,   0 ,1 ,0],\n",
    "                [0   ,   0 ,0 ,1]]\n",
    "\n",
    "        H_j =  [[c ,-s ,0 ,0],\n",
    "                [s , c ,0 ,0],\n",
    "                [0 , 0 ,1 ,0],\n",
    "                [0 , 0 ,0 ,1]]\n",
    "\n",
    "        H = H @ T_x @ R_x @ T_z @ R_z @ H_j      \n",
    "        # print(H)\n",
    "    H = H@H_end_eff\n",
    "#     print(T_x,\"\\n\",R_x,\"\\n\",T_z,\"\\n\",T_z)\n",
    "\n",
    "    return H"
   ]
  },
  {
   "cell_type": "code",
   "execution_count": 88,
   "metadata": {},
   "outputs": [
    {
     "name": "stdout",
     "output_type": "stream",
     "text": [
      "[[ 1.59265090e-03 -1.59265292e-03  9.99997463e-01 -2.78916919e-04]\n",
      " [-2.53654331e-06 -9.99998732e-01 -1.59265090e-03  4.44218407e-07]\n",
      " [-9.99998732e-01 -6.12323400e-17  1.59265292e-03  6.50254713e-01]\n",
      " [ 0.00000000e+00  0.00000000e+00  0.00000000e+00  1.00000000e+00]] \n",
      " [[ 1.59265090e-03  1.59265292e-03  9.99997463e-01 -2.78916919e-04]\n",
      " [-2.53654331e-06  9.99998732e-01 -1.59265090e-03  4.44218407e-07]\n",
      " [-9.99998732e-01  6.12323400e-17  1.59265292e-03  6.50254713e-01]\n",
      " [ 0.00000000e+00  0.00000000e+00  0.00000000e+00  1.00000000e+00]]\n"
     ]
    }
   ],
   "source": [
    "a = forward_kin([3.14,1.57,1.57])\n",
    "b = forward_kinematics([3.14,1.57,1.57])\n",
    "print(a,\"\\n\",b)"
   ]
  },
  {
   "cell_type": "code",
   "execution_count": 79,
   "metadata": {},
   "outputs": [
    {
     "name": "stdout",
     "output_type": "stream",
     "text": [
      "1\n",
      "2\n",
      "3\n"
     ]
    }
   ],
   "source": [
    "for i in range(0,3):\n",
    "    # print(i)\n",
    "    A = [1,2,3]\n",
    "    print(A[i])"
   ]
  }
 ],
 "metadata": {
  "kernelspec": {
   "display_name": "Python 3.8.10 64-bit",
   "language": "python",
   "name": "python3"
  },
  "language_info": {
   "codemirror_mode": {
    "name": "ipython",
    "version": 3
   },
   "file_extension": ".py",
   "mimetype": "text/x-python",
   "name": "python",
   "nbconvert_exporter": "python",
   "pygments_lexer": "ipython3",
   "version": "3.8.10"
  },
  "orig_nbformat": 4,
  "vscode": {
   "interpreter": {
    "hash": "916dbcbb3f70747c44a77c7bcd40155683ae19c65e1c03b4aa3499c5328201f1"
   }
  }
 },
 "nbformat": 4,
 "nbformat_minor": 2
}
