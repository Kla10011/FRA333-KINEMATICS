{
 "cells": [
  {
   "cell_type": "code",
   "execution_count": 1,
   "metadata": {},
   "outputs": [],
   "source": [
    "import numpy as np\n",
    "import math"
   ]
  },
  {
   "cell_type": "code",
   "execution_count": 2,
   "metadata": {},
   "outputs": [],
   "source": [
    "i = 0\n",
    "j = 0\n",
    "d = 1.0\n",
    "a = np.array([3/2,np.math.sqrt(3)/2])*d*(i-1)\n",
    "b = np.array([-3/2,np.math.sqrt(3)/2])*d*(j-1)\n"
   ]
  },
  {
   "cell_type": "code",
   "execution_count": 3,
   "metadata": {},
   "outputs": [
    {
     "name": "stdout",
     "output_type": "stream",
     "text": [
      "[-1.5       -0.8660254]\n"
     ]
    }
   ],
   "source": [
    "print(a)"
   ]
  },
  {
   "cell_type": "code",
   "execution_count": 4,
   "metadata": {},
   "outputs": [
    {
     "name": "stdout",
     "output_type": "stream",
     "text": [
      "[ 1.5       -0.8660254]\n"
     ]
    }
   ],
   "source": [
    "print(b)"
   ]
  },
  {
   "cell_type": "code",
   "execution_count": 5,
   "metadata": {},
   "outputs": [
    {
     "name": "stdout",
     "output_type": "stream",
     "text": [
      "[0. 0.]\n"
     ]
    }
   ],
   "source": [
    "print(a+b+np.array([0,np.math.sqrt(3)]))"
   ]
  },
  {
   "cell_type": "code",
   "execution_count": 6,
   "metadata": {},
   "outputs": [
    {
     "name": "stdout",
     "output_type": "stream",
     "text": [
      "[[1 3]\n",
      " [3 0]]\n"
     ]
    }
   ],
   "source": [
    "print(np.array([[1,3],[3,0]]))"
   ]
  },
  {
   "cell_type": "code",
   "execution_count": 15,
   "metadata": {},
   "outputs": [],
   "source": [
    "class MyBeeBot():\n",
    "    def __init__(self):\n",
    "        self.direction = 0  # intial degrees\n",
    "    def numbers_to_direction(self,argument): #affect ot a_i,a_j\n",
    "        switcher = {\n",
    "            0: \"unknow\",\n",
    "            1: \"unknow\",\n",
    "            2: \"unknow\",\n",
    "            3: self.stash_direction(60),\n",
    "            4: [-1,0],\n",
    "            5: self.stash_direction(-60),\n",
    "        }\n",
    "        # return switcher.get(argument, \"nothing\")\n",
    "    def stash_direction(self,degrees):\n",
    "            self.direction = degrees + self.direction\n",
    "            degrees = 0\n",
    "            return self.direction"
   ]
  },
  {
   "cell_type": "code",
   "execution_count": 17,
   "metadata": {},
   "outputs": [
    {
     "name": "stdout",
     "output_type": "stream",
     "text": [
      "None\n",
      "None\n",
      "None\n",
      "None\n",
      "None\n",
      "None\n",
      "None\n",
      "None\n",
      "None\n"
     ]
    }
   ],
   "source": [
    "A = MyBeeBot()\n",
    "# A.direction = 60\n",
    "for i in range(1,10,1):\n",
    "    # A.direction = A.direction + 60\n",
    "    print(A.numbers_to_direction(3))\n",
    "    # print(A.stash_direction(action))\n",
    "    # print(A.numbers_to_direction(3))\n"
   ]
  },
  {
   "cell_type": "code",
   "execution_count": 18,
   "metadata": {},
   "outputs": [
    {
     "name": "stdout",
     "output_type": "stream",
     "text": [
      "[6, 5]\n"
     ]
    }
   ],
   "source": [
    "a = [1,2]\n",
    "b = [5,3]\n",
    "c = [a[0]+b[0],a[1]+b[1]]\n",
    "# print(list(map(lambda x,y: [x[0]+y[0],x[1]+y[1]],a,b)))\n",
    "print(c)"
   ]
  },
  {
   "cell_type": "code",
   "execution_count": 19,
   "metadata": {},
   "outputs": [],
   "source": [
    "# from trackbeebot import BeeBot\n",
    "# class MyBeeBot(BeeBot):\n",
    "#     def __init__(self,a_i):\n",
    "#         super().__init__(a_i)\n",
    "#         self.a_i = a_i\n",
    "#         self.d = 1.0\n",
    "#         self.direction = 0 # intial degrees\n",
    "#     def stash_direction(self,degrees):\n",
    "#         self.direction += degrees\n",
    "#         return self.direction\n",
    "#     def numbers_to_action(argument):\n",
    "#         A=MyBeeBot(BeeBot) \n",
    "#         switcher = {\n",
    "#             0: \"stop\",\n",
    "#             1: \"forward\",\n",
    "#             2: \"backward\",\n",
    "#             3: A.stash_direction(60),\n",
    "#             4: A.stash_direction(-60),\n",
    "#         }\n",
    "#         return switcher.get(argument, \"nothing\")"
   ]
  },
  {
   "cell_type": "code",
   "execution_count": 20,
   "metadata": {},
   "outputs": [],
   "source": [
    "# klaza = MyBeeBot() \n",
    "# gg = klaza.numbers_to_action(0)"
   ]
  }
 ],
 "metadata": {
  "kernelspec": {
   "display_name": "Python 3.9.12 ('base')",
   "language": "python",
   "name": "python3"
  },
  "language_info": {
   "codemirror_mode": {
    "name": "ipython",
    "version": 3
   },
   "file_extension": ".py",
   "mimetype": "text/x-python",
   "name": "python",
   "nbconvert_exporter": "python",
   "pygments_lexer": "ipython3",
   "version": "3.9.12"
  },
  "orig_nbformat": 4,
  "vscode": {
   "interpreter": {
    "hash": "ad2bdc8ecc057115af97d19610ffacc2b4e99fae6737bb82f5d7fb13d2f2c186"
   }
  }
 },
 "nbformat": 4,
 "nbformat_minor": 2
}
