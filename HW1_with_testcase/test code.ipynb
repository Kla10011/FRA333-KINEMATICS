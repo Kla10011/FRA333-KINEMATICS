{
 "cells": [
  {
   "cell_type": "code",
   "execution_count": 1,
   "metadata": {},
   "outputs": [],
   "source": [
    "import numpy as np\n",
    "import math"
   ]
  },
  {
   "cell_type": "code",
   "execution_count": 2,
   "metadata": {},
   "outputs": [],
   "source": [
    "i = 0\n",
    "j = 0\n",
    "d = 1.0\n",
    "a = np.array([3/2,np.math.sqrt(3)/2])*d*(i-1)\n",
    "b = np.array([-3/2,np.math.sqrt(3)/2])*d*(j-1)\n"
   ]
  },
  {
   "cell_type": "code",
   "execution_count": 3,
   "metadata": {},
   "outputs": [
    {
     "name": "stdout",
     "output_type": "stream",
     "text": [
      "[-1.5       -0.8660254]\n"
     ]
    }
   ],
   "source": [
    "print(a)"
   ]
  },
  {
   "cell_type": "code",
   "execution_count": 4,
   "metadata": {},
   "outputs": [
    {
     "name": "stdout",
     "output_type": "stream",
     "text": [
      "[ 1.5       -0.8660254]\n"
     ]
    }
   ],
   "source": [
    "print(b)"
   ]
  },
  {
   "cell_type": "code",
   "execution_count": 5,
   "metadata": {},
   "outputs": [
    {
     "name": "stdout",
     "output_type": "stream",
     "text": [
      "[0. 0.]\n"
     ]
    }
   ],
   "source": [
    "print(a+b+np.array([0,np.math.sqrt(3)]))"
   ]
  },
  {
   "cell_type": "code",
   "execution_count": 6,
   "metadata": {},
   "outputs": [
    {
     "name": "stdout",
     "output_type": "stream",
     "text": [
      "[[1 3]\n",
      " [3 0]]\n"
     ]
    }
   ],
   "source": [
    "print(np.array([[1,3],[3,0]]))"
   ]
  },
  {
   "cell_type": "code",
   "execution_count": 59,
   "metadata": {},
   "outputs": [],
   "source": [
    "class MyBeeBot():\n",
    "    def __init__(self):\n",
    "        self.direction = 0  # intial degrees\n",
    "        self.d = 0\n",
    "        self.a_i = np.array([0,0])\n",
    "    def numbers_to_action(self,argument): #affect ot a_i,a_j\n",
    "        switcher = {\n",
    "            0: 0,\n",
    "            1: 1,\n",
    "            2: -1,\n",
    "            3: 60,\n",
    "            4: [-1,0],\n",
    "            5: -60,\n",
    "        }\n",
    "        return switcher.get(argument, \"nothing\")\n",
    "    def numbers_to_direction(self,argument): #affect ot a_i,a_j\n",
    "        switcher = {\n",
    "            0: [1,1],\n",
    "            1: [0,1],-1: [0,1],#60 degrees\n",
    "            2: [-1,0],-2: [-1,0],#120 egrees\n",
    "            3: [-1,-1],-3: [-1,-1],#180 degrees\n",
    "            4: [0,-1],-4: [0,-1],#240 degrees\n",
    "            5: [1,0],-5: [1,0],#300 degrees\n",
    "        }\n",
    "        return switcher.get(argument, \"nothing\")\n",
    "    def stash_direction(self,degrees):\n",
    "        self.direction += degrees \n",
    "        degrees = 0\n",
    "        return self.direction\n",
    "    def trackBeebot(self):\n",
    "        # a = self.numbers_to_direction(3)\n",
    "        a = self.stash_direction(-60)\n",
    "        return a"
   ]
  },
  {
   "cell_type": "code",
   "execution_count": 60,
   "metadata": {},
   "outputs": [
    {
     "name": "stdout",
     "output_type": "stream",
     "text": [
      "[0 0]\n",
      "[0 1] [0 1] 1\n",
      "[0 1]\n",
      "[-1  0] [-1  1] 1\n",
      "[-1  1]\n",
      "[-1 -1] [-2  0] 1\n",
      "[-2  0]\n",
      "[ 0 -1] [-2 -1] 1\n",
      "[-2 -1]\n",
      "[1 0] [-1 -1] 1\n",
      "[-1 -1]\n",
      "[1 1] [0 0] 1\n",
      "[0 0]\n",
      "[0 1] [0 1] 1\n",
      "[0 1]\n",
      "[-1  0] [-1  1] 1\n",
      "[-1  1]\n",
      "[-1 -1] [-2  0] 1\n",
      "[-2  0]\n",
      "[ 0 -1] [-2 -1] 1\n"
     ]
    }
   ],
   "source": [
    "\n",
    "A = MyBeeBot()\n",
    "for i in range(0,10,1):\n",
    "    action = A.numbers_to_action(3) #look action\n",
    "    print(A.a_i)\n",
    "    A.direction += action\n",
    "    A.d = ((A.direction/60)%6)*(action/60) #find direction\n",
    "    action = 0 # reset degrees \n",
    "    a_direction = np.array(A.numbers_to_direction(A.d))#เตรียมเดิน\n",
    "    # print(A.direction,a_direction)\n",
    "    actionV = np.array(A.numbers_to_action(1)) #look action\n",
    "    A.a_i = A.a_i + (a_direction*actionV)\n",
    "    print(a_direction,A.a_i,(actionV))\n",
    "\n",
    "\n"
   ]
  },
  {
   "cell_type": "code",
   "execution_count": null,
   "metadata": {},
   "outputs": [
    {
     "name": "stdout",
     "output_type": "stream",
     "text": [
      "[6, 5]\n"
     ]
    }
   ],
   "source": [
    "a = [1,2]\n",
    "b = [5,3]\n",
    "c = [a[0]+b[0],a[1]+b[1]]\n",
    "# print(list(map(lambda x,y: [x[0]+y[0],x[1]+y[1]],a,b)))\n",
    "print(c)"
   ]
  },
  {
   "cell_type": "code",
   "execution_count": null,
   "metadata": {},
   "outputs": [],
   "source": [
    "# from trackbeebot import BeeBot\n",
    "# class MyBeeBot(BeeBot):\n",
    "#     def __init__(self,a_i):\n",
    "#         super().__init__(a_i)\n",
    "#         self.a_i = a_i\n",
    "#         self.d = 1.0\n",
    "#         self.direction = 0 # intial degrees\n",
    "#     def stash_direction(self,degrees):\n",
    "#         self.direction += degrees\n",
    "#         return self.direction\n",
    "#     def numbers_to_action(argument):\n",
    "#         A=MyBeeBot(BeeBot) \n",
    "#         switcher = {\n",
    "#             0: \"stop\",\n",
    "#             1: \"forward\",\n",
    "#             2: \"backward\",\n",
    "#             3: A.stash_direction(60),\n",
    "#             4: A.stash_direction(-60),\n",
    "#         }\n",
    "#         return switcher.get(argument, \"nothing\")"
   ]
  },
  {
   "cell_type": "code",
   "execution_count": null,
   "metadata": {},
   "outputs": [],
   "source": [
    "# klaza = MyBeeBot() \n",
    "# gg = klaza.numbers_to_action(0)"
   ]
  },
  {
   "cell_type": "code",
   "execution_count": null,
   "metadata": {},
   "outputs": [
    {
     "name": "stdout",
     "output_type": "stream",
     "text": [
      "gg\n"
     ]
    }
   ],
   "source": [
    "a = 3.0\n",
    "if a in [3,4]:\n",
    "    print(\"gg\")"
   ]
  },
  {
   "cell_type": "code",
   "execution_count": null,
   "metadata": {},
   "outputs": [],
   "source": [
    "def numbers_to_direction(argument): #affect ot a_i,a_j\n",
    "    switcher = {\n",
    "        0: \"unknow\",\n",
    "        1: \"unknow\",\n",
    "        2: \"unknow\", \n",
    "        3: 60,\n",
    "        -4: [-1,0],\n",
    "        5: 60,\n",
    "    }\n",
    "    return switcher.get(argument, \"nothing\")"
   ]
  },
  {
   "cell_type": "code",
   "execution_count": null,
   "metadata": {},
   "outputs": [
    {
     "name": "stdout",
     "output_type": "stream",
     "text": [
      "[-1, 0]\n"
     ]
    }
   ],
   "source": [
    "print(numbers_to_direction(-4))"
   ]
  },
  {
   "cell_type": "code",
   "execution_count": 25,
   "metadata": {},
   "outputs": [
    {
     "name": "stdout",
     "output_type": "stream",
     "text": [
      "ko\n",
      "ko\n",
      "ko\n",
      "ko\n",
      "ko\n",
      "ok\n",
      "ok\n",
      "ok\n",
      "ok\n",
      "ok\n"
     ]
    }
   ],
   "source": [
    "for i in range(0,10,1):\n",
    "    if i>=5:\n",
    "        print(\"ok\")\n",
    "    else:\n",
    "        print(\"ko\")"
   ]
  },
  {
   "cell_type": "code",
   "execution_count": 2,
   "metadata": {},
   "outputs": [
    {
     "name": "stdout",
     "output_type": "stream",
     "text": [
      "1.7320508075688772 [0.5 0.5 1.  0.5 0.5]\n"
     ]
    }
   ],
   "source": [
    "import numpy as np\n",
    "import math\n",
    "a = 2\n",
    "b = [1, 1, 2 ,1, 1]\n",
    "ar = np.array(a)\n",
    "ag = np.array(b)\n",
    "# print (ag*ar)\n",
    "x_1 = (np.math.sqrt(3)/2)*ar\n",
    "x_2 = (np.array(1/2))*ag\n",
    "print (x_1,x_2)"
   ]
  },
  {
   "cell_type": "code",
   "execution_count": 5,
   "metadata": {},
   "outputs": [
    {
     "name": "stdout",
     "output_type": "stream",
     "text": [
      "[1, 2]\n"
     ]
    }
   ],
   "source": [
    "print(list([1,2]))"
   ]
  },
  {
   "cell_type": "code",
   "execution_count": 78,
   "metadata": {},
   "outputs": [
    {
     "name": "stdout",
     "output_type": "stream",
     "text": [
      "[-6.92820323 -1.73205081]\n",
      "<class 'numpy.ndarray'>\n",
      "-6.928203230275509\n"
     ]
    }
   ],
   "source": [
    "from pickletools import long1\n",
    "\n",
    "\n",
    "m=float((-4)*(np.math.sqrt(3)))\n",
    "n=float((-1)*(np.math.sqrt(3)))\n",
    "a = ((np.math.sqrt(3)/2)*m)-((np.math.sqrt(3)/2)*n)\n",
    "b = (((1/2)*m)+((1/2)*n))\n",
    "\n",
    "# A =np.array(22/7,dtype=\"uint16\")\n",
    "print(np.array([m,n]))\n",
    "print(type(np.array(m)))\n",
    "print(np.array(m))\n",
    "\n",
    "\n"
   ]
  }
 ],
 "metadata": {
  "kernelspec": {
   "display_name": "Python 3.9.12 ('base')",
   "language": "python",
   "name": "python3"
  },
  "language_info": {
   "codemirror_mode": {
    "name": "ipython",
    "version": 3
   },
   "file_extension": ".py",
   "mimetype": "text/x-python",
   "name": "python",
   "nbconvert_exporter": "python",
   "pygments_lexer": "ipython3",
   "version": "3.9.12"
  },
  "orig_nbformat": 4,
  "vscode": {
   "interpreter": {
    "hash": "ad2bdc8ecc057115af97d19610ffacc2b4e99fae6737bb82f5d7fb13d2f2c186"
   }
  }
 },
 "nbformat": 4,
 "nbformat_minor": 2
}
